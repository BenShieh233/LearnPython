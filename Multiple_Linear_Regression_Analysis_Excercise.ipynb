{
  "nbformat": 4,
  "nbformat_minor": 0,
  "metadata": {
    "colab": {
      "provenance": [],
      "collapsed_sections": [],
      "include_colab_link": true
    },
    "kernelspec": {
      "name": "python3",
      "display_name": "Python 3"
    },
    "language_info": {
      "name": "python"
    }
  },
  "cells": [
    {
      "cell_type": "markdown",
      "metadata": {
        "id": "view-in-github",
        "colab_type": "text"
      },
      "source": [
        "<a href=\"https://colab.research.google.com/github/BenShieh233/LearnPython/blob/main/Question_4.ipynb\" target=\"_parent\"><img src=\"https://colab.research.google.com/assets/colab-badge.svg\" alt=\"Open In Colab\"/></a>"
      ]
    },
    {
      "cell_type": "markdown",
      "source": [
        "#Base Model (Distributed to Students)"
      ],
      "metadata": {
        "id": "UmvdkCq2jOth"
      }
    },
    {
      "cell_type": "code",
      "source": [
        "import numpy as np\n",
        "import matplotlib.pyplot as plt\n",
        "import pandas as pd"
      ],
      "metadata": {
        "id": "uvUpAHFPWh69"
      },
      "execution_count": 21,
      "outputs": []
    },
    {
      "cell_type": "code",
      "execution_count": 6,
      "metadata": {
        "id": "jvEyg0qujLXj"
      },
      "outputs": [],
      "source": [
        "#inputs\n",
        "market_multiplier = 1.1\n",
        "p_baseline = 100\n",
        "p_gps = 40\n",
        "p_modular = 35\n",
        "p_camera = 20\n",
        "p_battery = 15\n",
        "investment_cost = 90"
      ]
    },
    {
      "cell_type": "code",
      "source": [
        "#profit projection calculation\n",
        "profit = p_baseline + market_multiplier*((p_gps + p_modular + p_camera + p_battery)**0.5)\n",
        "net_profit = profit - investment_cost\n",
        "print(f'The projected net profit of launching this product is {net_profit} million dollars')"
      ],
      "metadata": {
        "colab": {
          "base_uri": "https://localhost:8080/"
        },
        "id": "zkikE1zBjoEN",
        "outputId": "8c45e30d-2e43-47e3-d6eb-5ede2cd62e6d"
      },
      "execution_count": 7,
      "outputs": [
        {
          "output_type": "stream",
          "name": "stdout",
          "text": [
            "The projected net profit of launching this product is 21.536897329871664 million dollars\n"
          ]
        }
      ]
    },
    {
      "cell_type": "code",
      "source": [
        "def net_profit(market_multiplier,\n",
        "               p_baseline,\n",
        "               p_gps,\n",
        "               p_modular,\n",
        "               p_camera,\n",
        "               p_battery,\n",
        "               investment_cost):\n",
        "  profit = p_baseline + market_multiplier*((p_gps + p_modular + p_camera + p_battery)**0.5)\n",
        "  net_profit = profit - investment_cost\n",
        "  return net_profit"
      ],
      "metadata": {
        "id": "-ibRKKm5TFq-"
      },
      "execution_count": 8,
      "outputs": []
    },
    {
      "cell_type": "code",
      "source": [
        "sim_num = 10000\n",
        "sim_multiplier = np.random.normal(1.1,0.1,sim_num)\n",
        "sim_p_baseline = np.random.normal(100,10,sim_num)\n",
        "sim_p_gps = np.random.normal(40,8,sim_num)\n",
        "sim_p_modular = np.random.normal(35,20,sim_num)\n",
        "sim_p_camera = np.random.normal(20,7,sim_num)\n",
        "sim_p_battery = np.random.normal(15,8,sim_num)\n",
        "sim_investment_cost = np.random.normal(90,10,sim_num)"
      ],
      "metadata": {
        "id": "BK_rQMIgTi49"
      },
      "execution_count": 9,
      "outputs": []
    },
    {
      "cell_type": "code",
      "source": [
        "# Create a list of simulated profits\n",
        "sim_profits = [net_profit(market_multiplier = sim_multiplier[i],\n",
        "                          p_baseline = sim_p_baseline[i],\n",
        "                          p_gps = sim_p_gps[i],\n",
        "                          p_modular = sim_p_modular[i],\n",
        "                          p_camera = sim_p_camera[i],\n",
        "                          p_battery = sim_p_battery[i],\n",
        "                          investment_cost = sim_investment_cost[i]) for i in range(sim_num)]"
      ],
      "metadata": {
        "id": "PwVAe_pPUb9z"
      },
      "execution_count": 15,
      "outputs": []
    },
    {
      "cell_type": "code",
      "source": [
        "# Plot a histogram of the simulated 10000 net profit outcomes\n",
        "df = pd.DataFrame(zip(sim_multiplier,sim_p_baseline, sim_p_gps, sim_p_modular,\n",
        "                      sim_p_camera, sim_p_battery, sim_investment_cost, sim_profits), columns = [\"sim_multiplier\", \"sim_p_baseline\", \"sim_p_gps\",\n",
        "                                                                                                 \"sim_p_modular\", \"sim_p_camera\", \"sim_p_battery\",\n",
        "                                                                                                 \"sim_investment_cost\", \"sim_profits\"])\n",
        "plt.hist(df.sim_profits)"
      ],
      "metadata": {
        "colab": {
          "base_uri": "https://localhost:8080/",
          "height": 334
        },
        "id": "EeiNKx15WgfK",
        "outputId": "f1d7aac5-289a-4dd1-9f35-cba55c2c7f91"
      },
      "execution_count": 23,
      "outputs": [
        {
          "output_type": "execute_result",
          "data": {
            "text/plain": [
              "(array([  22.,  140.,  609., 1581., 2758., 2621., 1561.,  588.,  109.,\n",
              "          11.]), array([-30.23825426, -19.83782043,  -9.4373866 ,   0.96304722,\n",
              "         11.36348105,  21.76391488,  32.16434871,  42.56478254,\n",
              "         52.96521637,  63.3656502 ,  73.76608402]), <a list of 10 Patch objects>)"
            ]
          },
          "metadata": {},
          "execution_count": 23
        },
        {
          "output_type": "display_data",
          "data": {
            "text/plain": [
              "<Figure size 432x288 with 1 Axes>"
            ],
            "image/png": "[encoded data removed]"
          },
          "metadata": {
            "needs_background": "light"
          }
        }
      ]
    },
    {
      "cell_type": "code",
      "source": [
        "# Simulated probability of a negative profit\n",
        "df[\"negative\"] = df[\"sim_profits\"] < 0\n",
        "print(\"The simulated robability of a negative profit is:\",df[\"negative\"].mean())"
      ],
      "metadata": {
        "colab": {
          "base_uri": "https://localhost:8080/"
        },
        "id": "hgCI43ddXFxD",
        "outputId": "7f87b9fc-e47f-4189-9d7d-930fed128109"
      },
      "execution_count": 35,
      "outputs": [
        {
          "output_type": "stream",
          "name": "stdout",
          "text": [
            "The simulated robability of a negative profit is: 0.0671\n"
          ]
        }
      ]
    },
    {
      "cell_type": "code",
      "source": [
        "df.iloc[:,0:7]"
      ],
      "metadata": {
        "colab": {
          "base_uri": "https://localhost:8080/",
          "height": 424
        },
        "id": "VouS0-Vs7-SZ",
        "outputId": "ad907954-d34c-4844-a4e0-4b22dca2f01c"
      },
      "execution_count": 38,
      "outputs": [
        {
          "output_type": "execute_result",
          "data": {
            "text/plain": [
              "      sim_multiplier  sim_p_baseline  sim_p_gps  sim_p_modular  sim_p_camera  \\\n",
              "0           1.209396       92.576242  32.653088      32.010352     11.518802   \n",
              "1           0.978067      103.493521  43.662481      16.166561     26.273195   \n",
              "2           1.036502      108.938934  38.306336      27.996768     31.604085   \n",
              "3           1.231621       97.782809  63.772759      49.938162     19.387004   \n",
              "4           1.027574      106.233033  54.127105      21.506843     21.548070   \n",
              "...              ...             ...        ...            ...           ...   \n",
              "9995        0.977936      104.602318  32.646406      82.295804      9.542452   \n",
              "9996        1.223313      107.515332  37.908899      26.893382     16.392741   \n",
              "9997        1.019708      104.028789  41.926604      20.719962     25.845445   \n",
              "9998        1.176376       99.093215  27.547162      26.395647     22.700900   \n",
              "9999        1.144425       88.899241  33.395680      62.097626     28.446861   \n",
              "\n",
              "      sim_p_battery  sim_investment_cost  \n",
              "0         31.677695            92.792993  \n",
              "1         16.912846            75.916033  \n",
              "2         13.478937            84.175814  \n",
              "3          7.980118            89.801672  \n",
              "4         13.691851            73.080280  \n",
              "...             ...                  ...  \n",
              "9995       5.483797           108.230642  \n",
              "9996      19.785817            83.751670  \n",
              "9997       4.913386            91.129836  \n",
              "9998      12.327197           100.666668  \n",
              "9999      12.903875            88.716112  \n",
              "\n",
              "[10000 rows x 7 columns]"
            ],
            "text/html": [
              "\n",
              "  <div id=\"df-1dc06112-8927-45da-9b1b-bff6ff46fc49\">\n",
              "    <div class=\"colab-df-container\">\n",
              "      <div>\n",
              "<style scoped>\n",
              "    .dataframe tbody tr th:only-of-type {\n",
              "        vertical-align: middle;\n",
              "    }\n",
              "\n",
              "    .dataframe tbody tr th {\n",
              "        vertical-align: top;\n",
              "    }\n",
              "\n",
              "    .dataframe thead th {\n",
              "        text-align: right;\n",
              "    }\n",
              "</style>\n",
              "<table border=\"1\" class=\"dataframe\">\n",
              "  <thead>\n",
              "    <tr style=\"text-align: right;\">\n",
              "      <th></th>\n",
              "      <th>sim_multiplier</th>\n",
              "      <th>sim_p_baseline</th>\n",
              "      <th>sim_p_gps</th>\n",
              "      <th>sim_p_modular</th>\n",
              "      <th>sim_p_camera</th>\n",
              "      <th>sim_p_battery</th>\n",
              "      <th>sim_investment_cost</th>\n",
              "    </tr>\n",
              "  </thead>\n",
              "  <tbody>\n",
              "    <tr>\n",
              "      <th>0</th>\n",
              "      <td>1.209396</td>\n",
              "      <td>92.576242</td>\n",
              "      <td>32.653088</td>\n",
              "      <td>32.010352</td>\n",
              "      <td>11.518802</td>\n",
              "      <td>31.677695</td>\n",
              "      <td>92.792993</td>\n",
              "    </tr>\n",
              "    <tr>\n",
              "      <th>1</th>\n",
              "      <td>0.978067</td>\n",
              "      <td>103.493521</td>\n",
              "      <td>43.662481</td>\n",
              "      <td>16.166561</td>\n",
              "      <td>26.273195</td>\n",
              "      <td>16.912846</td>\n",
              "      <td>75.916033</td>\n",
              "    </tr>\n",
              "    <tr>\n",
              "      <th>2</th>\n",
              "      <td>1.036502</td>\n",
              "      <td>108.938934</td>\n",
              "      <td>38.306336</td>\n",
              "      <td>27.996768</td>\n",
              "      <td>31.604085</td>\n",
              "      <td>13.478937</td>\n",
              "      <td>84.175814</td>\n",
              "    </tr>\n",
              "    <tr>\n",
              "      <th>3</th>\n",
              "      <td>1.231621</td>\n",
              "      <td>97.782809</td>\n",
              "      <td>63.772759</td>\n",
              "      <td>49.938162</td>\n",
              "      <td>19.387004</td>\n",
              "      <td>7.980118</td>\n",
              "      <td>89.801672</td>\n",
              "    </tr>\n",
              "    <tr>\n",
              "      <th>4</th>\n",
              "      <td>1.027574</td>\n",
              "      <td>106.233033</td>\n",
              "      <td>54.127105</td>\n",
              "      <td>21.506843</td>\n",
              "      <td>21.548070</td>\n",
              "      <td>13.691851</td>\n",
              "      <td>73.080280</td>\n",
              "    </tr>\n",
              "    <tr>\n",
              "      <th>...</th>\n",
              "      <td>...</td>\n",
              "      <td>...</td>\n",
              "      <td>...</td>\n",
              "      <td>...</td>\n",
              "      <td>...</td>\n",
              "      <td>...</td>\n",
              "      <td>...</td>\n",
              "    </tr>\n",
              "    <tr>\n",
              "      <th>9995</th>\n",
              "      <td>0.977936</td>\n",
              "      <td>104.602318</td>\n",
              "      <td>32.646406</td>\n",
              "      <td>82.295804</td>\n",
              "      <td>9.542452</td>\n",
              "      <td>5.483797</td>\n",
              "      <td>108.230642</td>\n",
              "    </tr>\n",
              "    <tr>\n",
              "      <th>9996</th>\n",
              "      <td>1.223313</td>\n",
              "      <td>107.515332</td>\n",
              "      <td>37.908899</td>\n",
              "      <td>26.893382</td>\n",
              "      <td>16.392741</td>\n",
              "      <td>19.785817</td>\n",
              "      <td>83.751670</td>\n",
              "    </tr>\n",
              "    <tr>\n",
              "      <th>9997</th>\n",
              "      <td>1.019708</td>\n",
              "      <td>104.028789</td>\n",
              "      <td>41.926604</td>\n",
              "      <td>20.719962</td>\n",
              "      <td>25.845445</td>\n",
              "      <td>4.913386</td>\n",
              "      <td>91.129836</td>\n",
              "    </tr>\n",
              "    <tr>\n",
              "      <th>9998</th>\n",
              "      <td>1.176376</td>\n",
              "      <td>99.093215</td>\n",
              "      <td>27.547162</td>\n",
              "      <td>26.395647</td>\n",
              "      <td>22.700900</td>\n",
              "      <td>12.327197</td>\n",
              "      <td>100.666668</td>\n",
              "    </tr>\n",
              "    <tr>\n",
              "      <th>9999</th>\n",
              "      <td>1.144425</td>\n",
              "      <td>88.899241</td>\n",
              "      <td>33.395680</td>\n",
              "      <td>62.097626</td>\n",
              "      <td>28.446861</td>\n",
              "      <td>12.903875</td>\n",
              "      <td>88.716112</td>\n",
              "    </tr>\n",
              "  </tbody>\n",
              "</table>\n",
              "<p>10000 rows × 7 columns</p>\n",
              "</div>\n",
              "      <button class=\"colab-df-convert\" onclick=\"convertToInteractive('df-1dc06112-8927-45da-9b1b-bff6ff46fc49')\"\n",
              "              title=\"Convert this dataframe to an interactive table.\"\n",
              "              style=\"display:none;\">\n",
              "        \n",
              "  <svg xmlns=\"http://www.w3.org/2000/svg\" height=\"24px\"viewBox=\"0 0 24 24\"\n",
              "       width=\"24px\">\n",
              "    <path d=\"M0 0h24v24H0V0z\" fill=\"none\"/>\n",
              "    <path d=\"M18.56 5.44l.94 2.06.94-2.06 2.06-.94-2.06-.94-.94-2.06-.94 2.06-2.06.94zm-11 1L8.5 8.5l.94-2.06 2.06-.94-2.06-.94L8.5 2.5l-.94 2.06-2.06.94zm10 10l.94 2.06.94-2.06 2.06-.94-2.06-.94-.94-2.06-.94 2.06-2.06.94z\"/><path d=\"M17.41 7.96l-1.37-1.37c-.4-.4-.92-.59-1.43-.59-.52 0-1.04.2-1.43.59L10.3 9.45l-7.72 7.72c-.78.78-.78 2.05 0 2.83L4 21.41c.39.39.9.59 1.41.59.51 0 1.02-.2 1.41-.59l7.78-7.78 2.81-2.81c.8-.78.8-2.07 0-2.86zM5.41 20L4 18.59l7.72-7.72 1.47 1.35L5.41 20z\"/>\n",
              "  </svg>\n",
              "      </button>\n",
              "      \n",
              "  <style>\n",
              "    .colab-df-container {\n",
              "      display:flex;\n",
              "      flex-wrap:wrap;\n",
              "      gap: 12px;\n",
              "    }\n",
              "\n",
              "    .colab-df-convert {\n",
              "      background-color: #E8F0FE;\n",
              "      border: none;\n",
              "      border-radius: 50%;\n",
              "      cursor: pointer;\n",
              "      display: none;\n",
              "      fill: #1967D2;\n",
              "      height: 32px;\n",
              "      padding: 0 0 0 0;\n",
              "      width: 32px;\n",
              "    }\n",
              "\n",
              "    .colab-df-convert:hover {\n",
              "      background-color: #E2EBFA;\n",
              "      box-shadow: 0px 1px 2px rgba(60, 64, 67, 0.3), 0px 1px 3px 1px rgba(60, 64, 67, 0.15);\n",
              "      fill: #174EA6;\n",
              "    }\n",
              "\n",
              "    [theme=dark] .colab-df-convert {\n",
              "      background-color: #3B4455;\n",
              "      fill: #D2E3FC;\n",
              "    }\n",
              "\n",
              "    [theme=dark] .colab-df-convert:hover {\n",
              "      background-color: #434B5C;\n",
              "      box-shadow: 0px 1px 3px 1px rgba(0, 0, 0, 0.15);\n",
              "      filter: drop-shadow(0px 1px 2px rgba(0, 0, 0, 0.3));\n",
              "      fill: #FFFFFF;\n",
              "    }\n",
              "  </style>\n",
              "\n",
              "      <script>\n",
              "        const buttonEl =\n",
              "          document.querySelector('#df-1dc06112-8927-45da-9b1b-bff6ff46fc49 button.colab-df-convert');\n",
              "        buttonEl.style.display =\n",
              "          google.colab.kernel.accessAllowed ? 'block' : 'none';\n",
              "\n",
              "        async function convertToInteractive(key) {\n",
              "          const element = document.querySelector('#df-1dc06112-8927-45da-9b1b-bff6ff46fc49');\n",
              "          const dataTable =\n",
              "            await google.colab.kernel.invokeFunction('convertToInteractive',\n",
              "                                                     [key], {});\n",
              "          if (!dataTable) return;\n",
              "\n",
              "          const docLinkHtml = 'Like what you see? Visit the ' +\n",
              "            '<a target=\"_blank\" href=https://colab.research.google.com/notebooks/data_table.ipynb>data table notebook</a>'\n",
              "            + ' to learn more about interactive tables.';\n",
              "          element.innerHTML = '';\n",
              "          dataTable['output_type'] = 'display_data';\n",
              "          await google.colab.output.renderOutput(dataTable, element);\n",
              "          const docLink = document.createElement('div');\n",
              "          docLink.innerHTML = docLinkHtml;\n",
              "          element.appendChild(docLink);\n",
              "        }\n",
              "      </script>\n",
              "    </div>\n",
              "  </div>\n",
              "  "
            ]
          },
          "metadata": {},
          "execution_count": 38
        }
      ]
    },
    {
      "cell_type": "code",
      "source": [
        "# Run a multiple linear regression analysis\n",
        "import statsmodels.api as sm\n",
        "X = sm.add_constant(df.iloc[:,0:7])\n",
        "y = df.iloc[:,7]"
      ],
      "metadata": {
        "colab": {
          "base_uri": "https://localhost:8080/"
        },
        "id": "8DuR-3hkYQcQ",
        "outputId": "a19f2bc5-566b-447f-b090-32bb357481d0"
      },
      "execution_count": 39,
      "outputs": [
        {
          "output_type": "stream",
          "name": "stderr",
          "text": [
            "/usr/local/lib/python3.7/dist-packages/statsmodels/tsa/tsatools.py:142: FutureWarning: In a future version of pandas all arguments of concat except for the argument 'objs' will be keyword-only\n",
            "  x = pd.concat(x[::order], 1)\n"
          ]
        }
      ]
    },
    {
      "cell_type": "code",
      "source": [
        "mod = sm.OLS(y,X,hasconstant=True)\n",
        "result = mod.fit()\n",
        "result.summary()"
      ],
      "metadata": {
        "colab": {
          "base_uri": "https://localhost:8080/",
          "height": 614
        },
        "id": "UnLEv8qQ8esc",
        "outputId": "d2bf5ba9-062a-4aea-e2f5-f925c802b13b"
      },
      "execution_count": 40,
      "outputs": [
        {
          "output_type": "execute_result",
          "data": {
            "text/plain": [
              "<class 'statsmodels.iolib.summary.Summary'>\n",
              "\"\"\"\n",
              "                            OLS Regression Results                            \n",
              "==============================================================================\n",
              "Dep. Variable:            sim_profits   R-squared:                       1.000\n",
              "Model:                            OLS   Adj. R-squared:                  1.000\n",
              "Method:                 Least Squares   F-statistic:                 1.196e+07\n",
              "Date:                Thu, 03 Nov 2022   Prob (F-statistic):               0.00\n",
              "Time:                        19:22:37   Log-Likelihood:                 4400.5\n",
              "No. Observations:               10000   AIC:                            -8785.\n",
              "Df Residuals:                    9992   BIC:                            -8727.\n",
              "Df Model:                           7                                         \n",
              "Covariance Type:            nonrobust                                         \n",
              "=======================================================================================\n",
              "                          coef    std err          t      P>|t|      [0.025      0.975]\n",
              "---------------------------------------------------------------------------------------\n",
              "const                  -5.8929      0.029   -203.480      0.000      -5.950      -5.836\n",
              "sim_multiplier         10.4500      0.016    667.989      0.000      10.419      10.481\n",
              "sim_p_baseline          0.9999      0.000   6423.051      0.000       1.000       1.000\n",
              "sim_p_gps               0.0534      0.000    276.162      0.000       0.053       0.054\n",
              "sim_p_modular           0.0534   7.76e-05    688.459      0.000       0.053       0.054\n",
              "sim_p_camera            0.0533      0.000    239.350      0.000       0.053       0.054\n",
              "sim_p_battery           0.0533      0.000    274.445      0.000       0.053       0.054\n",
              "sim_investment_cost    -1.0000      0.000  -6410.377      0.000      -1.000      -1.000\n",
              "==============================================================================\n",
              "Omnibus:                     6938.011   Durbin-Watson:                   2.002\n",
              "Prob(Omnibus):                  0.000   Jarque-Bera (JB):           172557.532\n",
              "Skew:                          -3.007   Prob(JB):                         0.00\n",
              "Kurtosis:                      22.441   Cond. No.                     2.90e+03\n",
              "==============================================================================\n",
              "\n",
              "Notes:\n",
              "[1] Standard Errors assume that the covariance matrix of the errors is correctly specified.\n",
              "[2] The condition number is large, 2.9e+03. This might indicate that there are\n",
              "strong multicollinearity or other numerical problems.\n",
              "\"\"\""
            ],
            "text/html": [
              "<table class=\"simpletable\">\n",
              "<caption>OLS Regression Results</caption>\n",
              "<tr>\n",
              "  <th>Dep. Variable:</th>       <td>sim_profits</td>   <th>  R-squared:         </th> <td>   1.000</td> \n",
              "</tr>\n",
              "<tr>\n",
              "  <th>Model:</th>                   <td>OLS</td>       <th>  Adj. R-squared:    </th> <td>   1.000</td> \n",
              "</tr>\n",
              "<tr>\n",
              "  <th>Method:</th>             <td>Least Squares</td>  <th>  F-statistic:       </th> <td>1.196e+07</td>\n",
              "</tr>\n",
              "<tr>\n",
              "  <th>Date:</th>             <td>Thu, 03 Nov 2022</td> <th>  Prob (F-statistic):</th>  <td>  0.00</td>  \n",
              "</tr>\n",
              "<tr>\n",
              "  <th>Time:</th>                 <td>19:22:37</td>     <th>  Log-Likelihood:    </th> <td>  4400.5</td> \n",
              "</tr>\n",
              "<tr>\n",
              "  <th>No. Observations:</th>      <td> 10000</td>      <th>  AIC:               </th> <td>  -8785.</td> \n",
              "</tr>\n",
              "<tr>\n",
              "  <th>Df Residuals:</th>          <td>  9992</td>      <th>  BIC:               </th> <td>  -8727.</td> \n",
              "</tr>\n",
              "<tr>\n",
              "  <th>Df Model:</th>              <td>     7</td>      <th>                     </th>     <td> </td>    \n",
              "</tr>\n",
              "<tr>\n",
              "  <th>Covariance Type:</th>      <td>nonrobust</td>    <th>                     </th>     <td> </td>    \n",
              "</tr>\n",
              "</table>\n",
              "<table class=\"simpletable\">\n",
              "<tr>\n",
              "           <td></td>              <th>coef</th>     <th>std err</th>      <th>t</th>      <th>P>|t|</th>  <th>[0.025</th>    <th>0.975]</th>  \n",
              "</tr>\n",
              "<tr>\n",
              "  <th>const</th>               <td>   -5.8929</td> <td>    0.029</td> <td> -203.480</td> <td> 0.000</td> <td>   -5.950</td> <td>   -5.836</td>\n",
              "</tr>\n",
              "<tr>\n",
              "  <th>sim_multiplier</th>      <td>   10.4500</td> <td>    0.016</td> <td>  667.989</td> <td> 0.000</td> <td>   10.419</td> <td>   10.481</td>\n",
              "</tr>\n",
              "<tr>\n",
              "  <th>sim_p_baseline</th>      <td>    0.9999</td> <td>    0.000</td> <td> 6423.051</td> <td> 0.000</td> <td>    1.000</td> <td>    1.000</td>\n",
              "</tr>\n",
              "<tr>\n",
              "  <th>sim_p_gps</th>           <td>    0.0534</td> <td>    0.000</td> <td>  276.162</td> <td> 0.000</td> <td>    0.053</td> <td>    0.054</td>\n",
              "</tr>\n",
              "<tr>\n",
              "  <th>sim_p_modular</th>       <td>    0.0534</td> <td> 7.76e-05</td> <td>  688.459</td> <td> 0.000</td> <td>    0.053</td> <td>    0.054</td>\n",
              "</tr>\n",
              "<tr>\n",
              "  <th>sim_p_camera</th>        <td>    0.0533</td> <td>    0.000</td> <td>  239.350</td> <td> 0.000</td> <td>    0.053</td> <td>    0.054</td>\n",
              "</tr>\n",
              "<tr>\n",
              "  <th>sim_p_battery</th>       <td>    0.0533</td> <td>    0.000</td> <td>  274.445</td> <td> 0.000</td> <td>    0.053</td> <td>    0.054</td>\n",
              "</tr>\n",
              "<tr>\n",
              "  <th>sim_investment_cost</th> <td>   -1.0000</td> <td>    0.000</td> <td>-6410.377</td> <td> 0.000</td> <td>   -1.000</td> <td>   -1.000</td>\n",
              "</tr>\n",
              "</table>\n",
              "<table class=\"simpletable\">\n",
              "<tr>\n",
              "  <th>Omnibus:</th>       <td>6938.011</td> <th>  Durbin-Watson:     </th>  <td>   2.002</td> \n",
              "</tr>\n",
              "<tr>\n",
              "  <th>Prob(Omnibus):</th>  <td> 0.000</td>  <th>  Jarque-Bera (JB):  </th> <td>172557.532</td>\n",
              "</tr>\n",
              "<tr>\n",
              "  <th>Skew:</th>           <td>-3.007</td>  <th>  Prob(JB):          </th>  <td>    0.00</td> \n",
              "</tr>\n",
              "<tr>\n",
              "  <th>Kurtosis:</th>       <td>22.441</td>  <th>  Cond. No.          </th>  <td>2.90e+03</td> \n",
              "</tr>\n",
              "</table><br/><br/>Notes:<br/>[1] Standard Errors assume that the covariance matrix of the errors is correctly specified.<br/>[2] The condition number is large, 2.9e+03. This might indicate that there are<br/>strong multicollinearity or other numerical problems."
            ]
          },
          "metadata": {},
          "execution_count": 40
        }
      ]
    },
    {
      "cell_type": "code",
      "source": [
        "# Normalize coefficients to reflect standard deviations of inputs\n",
        "result.params * X.std()"
      ],
      "metadata": {
        "colab": {
          "base_uri": "https://localhost:8080/"
        },
        "id": "44hpRj3H8iZA",
        "outputId": "8f64f8d6-8673-44d5-e42e-12f2e013653b"
      },
      "execution_count": 41,
      "outputs": [
        {
          "output_type": "execute_result",
          "data": {
            "text/plain": [
              "const                  -0.000000\n",
              "sim_multiplier          1.041429\n",
              "sim_p_baseline         10.015284\n",
              "sim_p_gps               0.430681\n",
              "sim_p_modular           1.073775\n",
              "sim_p_camera            0.373380\n",
              "sim_p_battery           0.428039\n",
              "sim_investment_cost    -9.994321\n",
              "dtype: float64"
            ]
          },
          "metadata": {},
          "execution_count": 41
        }
      ]
    },
    {
      "cell_type": "code",
      "source": [
        "# bar graph these things\n",
        "normalized_coefficients = result.params * X.std()\n",
        "normalized_coefficients.plot.bar()"
      ],
      "metadata": {
        "colab": {
          "base_uri": "https://localhost:8080/",
          "height": 377
        },
        "id": "wZT51kkw8kQe",
        "outputId": "7f36de1b-54bb-4cc8-8541-7699bcd2986f"
      },
      "execution_count": 42,
      "outputs": [
        {
          "output_type": "execute_result",
          "data": {
            "text/plain": [
              "<matplotlib.axes._subplots.AxesSubplot at 0x7efc17df5710>"
            ]
          },
          "metadata": {},
          "execution_count": 42
        },
        {
          "output_type": "display_data",
          "data": {
            "text/plain": [
              "<Figure size 432x288 with 1 Axes>"
            ],
            "image/png": "[encoded data removed]"
          },
          "metadata": {
            "needs_background": "light"
          }
        }
      ]
    },
    {
      "cell_type": "markdown",
      "source": [
        "The effect of p_battery being one standard deviation above the baseline is 0.428039. "
      ],
      "metadata": {
        "id": "r8kN7fACWhAX"
      }
    }
  ]
}
