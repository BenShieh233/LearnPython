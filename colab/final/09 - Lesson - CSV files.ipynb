{
 "cells": [
  {
   "cell_type": "markdown",
   "id": "3b034137",
   "metadata": {},
   "source": [
    "<a \n",
    " href=\"https://colab.research.google.com/github/LearnPythonWithRune/LearnPython/blob/main/colab/final/09 - Lesson - CSV files.ipynb\"\n",
    " target=\"_parent\">\n",
    "<img \n",
    " src=\"https://colab.research.google.com/assets/colab-badge.svg\"\n",
    "alt=\"Open In Colab\"/>\n",
    "</a>"
   ]
  },
  {
   "cell_type": "markdown",
   "id": "e2dd5237",
   "metadata": {},
   "source": [
    "# CSV Files\n",
    "### Goal\n",
    "- Learn to read and process CSV files"
   ]
  },
  {
   "cell_type": "code",
   "execution_count": 1,
   "id": "c8390e32",
   "metadata": {},
   "outputs": [],
   "source": [
    "import csv"
   ]
  },
  {
   "cell_type": "code",
   "execution_count": 2,
   "id": "896ab4eb",
   "metadata": {},
   "outputs": [],
   "source": [
    "with open(\"files/NameRecords.csv\", \"r\") as f:\n",
    "    csv_reader = csv.DictReader(f)\n",
    "    name_records = list(csv_reader)"
   ]
  },
  {
   "cell_type": "code",
   "execution_count": 3,
   "id": "bca96154",
   "metadata": {},
   "outputs": [
    {
     "data": {
      "text/plain": [
       "[{'First name': 'Connar', 'Last name': 'Ward', 'Age': '15'},\n",
       " {'First name': 'Rose', 'Last name': 'Peterson', 'Age': '18'},\n",
       " {'First name': 'Paul', 'Last name': 'Cox', 'Age': '12'},\n",
       " {'First name': 'Hanna', 'Last name': 'Hicks', 'Age': '10'}]"
      ]
     },
     "execution_count": 3,
     "metadata": {},
     "output_type": "execute_result"
    }
   ],
   "source": [
    "name_records"
   ]
  },
  {
   "cell_type": "code",
   "execution_count": 4,
   "id": "24b1cf18",
   "metadata": {},
   "outputs": [
    {
     "data": {
      "text/plain": [
       "{'First name': 'Connar', 'Last name': 'Ward', 'Age': '15'}"
      ]
     },
     "execution_count": 4,
     "metadata": {},
     "output_type": "execute_result"
    }
   ],
   "source": [
    "name_records[0]"
   ]
  },
  {
   "cell_type": "code",
   "execution_count": 5,
   "id": "a9605b0e",
   "metadata": {},
   "outputs": [
    {
     "data": {
      "text/plain": [
       "'Connar'"
      ]
     },
     "execution_count": 5,
     "metadata": {},
     "output_type": "execute_result"
    }
   ],
   "source": [
    "name_records[0]['First name']"
   ]
  },
  {
   "cell_type": "code",
   "execution_count": 6,
   "id": "fa5c6439",
   "metadata": {},
   "outputs": [
    {
     "data": {
      "text/plain": [
       "'Hanna'"
      ]
     },
     "execution_count": 6,
     "metadata": {},
     "output_type": "execute_result"
    }
   ],
   "source": [
    "name_records[3]['First name']"
   ]
  },
  {
   "cell_type": "code",
   "execution_count": 7,
   "id": "c1ab7742",
   "metadata": {},
   "outputs": [
    {
     "name": "stdout",
     "output_type": "stream",
     "text": [
      "Connar Ward: 15\n",
      "Rose Peterson: 18\n",
      "Paul Cox: 12\n",
      "Hanna Hicks: 10\n"
     ]
    }
   ],
   "source": [
    "for record in name_records:\n",
    "    print(f\"{record['First name']} {record['Last name']}: {record['Age']}\")"
   ]
  }
 ],
 "metadata": {},
 "nbformat": 4,
 "nbformat_minor": 5
}
