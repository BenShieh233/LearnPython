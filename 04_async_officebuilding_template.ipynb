{
  "cells": [
    {
      "cell_type": "markdown",
      "metadata": {
        "id": "view-in-github",
        "colab_type": "text"
      },
      "source": [
        "<a href=\"https://colab.research.google.com/github/BenShieh233/LearnPython/blob/main/04_async_officebuilding_template.ipynb\" target=\"_parent\"><img src=\"https://colab.research.google.com/assets/colab-badge.svg\" alt=\"Open In Colab\"/></a>"
      ]
    },
    {
      "cell_type": "markdown",
      "source": [
        "#Base Model that Prints Output\n"
      ],
      "metadata": {
        "id": "sKPPoieqzbd1"
      },
      "id": "sKPPoieqzbd1"
    },
    {
      "cell_type": "code",
      "execution_count": 3,
      "id": "5c718a5e",
      "metadata": {
        "id": "5c718a5e"
      },
      "outputs": [],
      "source": [
        "#inputs\n",
        "total_sqft = 180000\n",
        "\n",
        "m = -0.05\n",
        "b = 1.5\n",
        "\n",
        "op_expense_per_sqft = 1.20\n",
        "heating_surcharge_per_sqft = .2\n",
        "op_exp_annual_growth = .12\n",
        "annual_mortgage = 1500000\n",
        "tax_rate = .34\n",
        "\n",
        "price_per_sqft = [15, 15, 15, 15, 15]\n",
        "\n",
        "num_years = 5\n"
      ]
    },
    {
      "cell_type": "code",
      "source": [
        "#rev calc\n",
        "perc_occ = [m*price_per_sqft[i] + b for i in range(num_years)]\n",
        "sqft_occ = [perc_occ[i]*total_sqft for i in range(num_years)]\n",
        "revenue = [sqft_occ[i]*price_per_sqft[i] for i in range(num_years)]\n",
        "print(\"revenue: \", revenue)"
      ],
      "metadata": {
        "id": "Z7vhvVfEjX2L",
        "colab": {
          "base_uri": "https://localhost:8080/"
        },
        "outputId": "65bfdf34-ec9a-47e6-ff7d-83d9c71fede4"
      },
      "id": "Z7vhvVfEjX2L",
      "execution_count": 4,
      "outputs": [
        {
          "output_type": "stream",
          "name": "stdout",
          "text": [
            "revenue:  [2025000.0, 2025000.0, 2025000.0, 2025000.0, 2025000.0]\n"
          ]
        }
      ]
    },
    {
      "cell_type": "code",
      "source": [
        "#operating expense calculations\n",
        "base_op_cost_as_percY1 = [(1+op_exp_annual_growth)**i for i in range(num_years)] #note that range(num_years) = range(5) = [0,1,2,3,4] and (1+op_exp_annual_growth)**0 = 1.\n",
        "base_op_cost = [op_expense_per_sqft*total_sqft*base_op_cost_as_percY1[i] for i in range(num_years)]\n",
        "heating_surcharge = [perc_occ[i]*base_op_cost[i]*heating_surcharge_per_sqft for i in range(num_years)]\n",
        "mortgage = [annual_mortgage for i in range(num_years)]\n",
        "operating_costs = [base_op_cost[i] + heating_surcharge[i] + mortgage[i] for i in range(num_years)]\n",
        "print(\"operating costs:\", operating_costs)"
      ],
      "metadata": {
        "colab": {
          "base_uri": "https://localhost:8080/"
        },
        "id": "Gnz1cjM-wb_h",
        "outputId": "34d6b967-3d2d-4ff2-a5e6-6860e332f908"
      },
      "id": "Gnz1cjM-wb_h",
      "execution_count": 5,
      "outputs": [
        {
          "output_type": "stream",
          "name": "stdout",
          "text": [
            "operating costs: [1748400.0, 1778208.0, 1811592.96, 1848984.1152000001, 1890862.2090240002]\n"
          ]
        }
      ]
    },
    {
      "cell_type": "code",
      "source": [
        "#before and after-tax earnings\n",
        "ebt = [revenue[i] - operating_costs[i] for i in range(num_years)]\n",
        "taxes = [ebt[i]*tax_rate for i in range(num_years)]\n",
        "earnings_after_tax = [ebt[i] - taxes[i] for i in range(num_years)]\n",
        "print(\"earnings after tax: \", earnings_after_tax)\n",
        "\n",
        "total_earnings_after_tax = sum(earnings_after_tax)\n",
        "print(\"total earnings after tax: \", total_earnings_after_tax)"
      ],
      "metadata": {
        "colab": {
          "base_uri": "https://localhost:8080/"
        },
        "id": "HnEvDiqzx4uw",
        "outputId": "ae197c7f-b245-4534-aa9d-ddd272d377a9"
      },
      "id": "HnEvDiqzx4uw",
      "execution_count": 6,
      "outputs": [
        {
          "output_type": "stream",
          "name": "stdout",
          "text": [
            "earnings after tax:  [182556.0, 162882.72, 140848.64640000003, 116170.48396799993, 88530.94204415986]\n",
            "total earnings after tax:  690988.7924121597\n"
          ]
        }
      ]
    },
    {
      "cell_type": "markdown",
      "source": [
        "#Model as Function\n",
        "\n"
      ],
      "metadata": {
        "id": "OzErNJz6Xxvh"
      },
      "id": "OzErNJz6Xxvh"
    },
    {
      "cell_type": "code",
      "source": [
        "def office_earnings(total_sqft = 180000,\n",
        "           m = -0.05,\n",
        "           b = 1.5,\n",
        "           op_expense_per_sqft = 1.20,\n",
        "           heating_surcharge_per_sqft = .2,\n",
        "           op_exp_annual_growth = .12,\n",
        "           annual_mortgage = 1500000,\n",
        "           tax_rate = .34,\n",
        "           price_per_sqft = [15, 15, 15, 15, 15],\n",
        "           num_years = 5):\n",
        "  #rev calc\n",
        "  perc_occ = [m*price_per_sqft[i] + b for i in range(num_years)]\n",
        "  sqft_occ = [perc_occ[i]*total_sqft for i in range(num_years)]\n",
        "  revenue = [sqft_occ[i]*price_per_sqft[i] for i in range(num_years)]\n",
        "  #operating expense calculations\n",
        "  base_op_cost_as_percY1 = [(1+op_exp_annual_growth)**i for i in range(num_years)] #note that range(num_years) = range(5) = [0,1,2,3,4] and (1+op_exp_annual_growth)**0 = 1.\n",
        "  base_op_cost = [op_expense_per_sqft*total_sqft*base_op_cost_as_percY1[i] for i in range(num_years)]\n",
        "  heating_surcharge = [perc_occ[i]*base_op_cost[i]*heating_surcharge_per_sqft for i in range(num_years)]\n",
        "  mortgage = [annual_mortgage for i in range(num_years)]\n",
        "  operating_costs = [base_op_cost[i] + heating_surcharge[i] + mortgage[i] for i in range(num_years)]\n",
        "  #before and after-tax earnings\n",
        "  ebt = [revenue[i] - operating_costs[i] for i in range(num_years)]\n",
        "  taxes = [ebt[i]*tax_rate for i in range(num_years)]\n",
        "  earnings_after_tax = [ebt[i] - taxes[i] for i in range(num_years)]\n",
        "  total_earnings_after_tax = sum(earnings_after_tax)\n",
        "  return total_earnings_after_tax\n"
      ],
      "metadata": {
        "id": "gNS3TlV1X2T3"
      },
      "id": "gNS3TlV1X2T3",
      "execution_count": 7,
      "outputs": []
    },
    {
      "cell_type": "code",
      "source": [
        "office_earnings()"
      ],
      "metadata": {
        "colab": {
          "base_uri": "https://localhost:8080/"
        },
        "id": "T5KR_UVgYach",
        "outputId": "85e0ce34-07f5-4715-8cb0-c4564ca02fc7"
      },
      "id": "T5KR_UVgYach",
      "execution_count": null,
      "outputs": [
        {
          "output_type": "execute_result",
          "data": {
            "text/plain": [
              "690988.7924121597"
            ]
          },
          "metadata": {},
          "execution_count": 69
        }
      ]
    },
    {
      "cell_type": "code",
      "source": [
        "import numpy as np\n",
        "import matplotlib.pyplot as plt\n",
        "import pandas as pd"
      ],
      "metadata": {
        "id": "8uX-FLrpEIJY"
      },
      "id": "8uX-FLrpEIJY",
      "execution_count": 8,
      "outputs": []
    },
    {
      "cell_type": "code",
      "source": [
        "num_sim = 10000\n",
        "sim_total_sqft = np.random.normal(180000, 0.2*180000, num_sim)\n",
        "sim_m = np.random.normal(-0.05, 0.2*0.05, num_sim)\n",
        "sim_b = np.random.normal(1.5, 0.2*1.5, num_sim)\n",
        "sim_op_expense_per_sqft = np.random.normal(1.20, 0.2*1.20, num_sim)\n",
        "sim_heating_surcharge_per_sqft = np.random.normal(0.2, 0.2*0.2, num_sim)\n",
        "sim_op_exp_annual_growth = np.random.normal(0.12, 0.2*0.12, num_sim)\n"
      ],
      "metadata": {
        "id": "whQub4TWCt6Y"
      },
      "id": "whQub4TWCt6Y",
      "execution_count": 9,
      "outputs": []
    },
    {
      "cell_type": "code",
      "source": [
        "# Simulation\n",
        "data = pd.DataFrame(zip(sim_total_sqft, sim_m, sim_b, sim_op_expense_per_sqft\n",
        "                        , sim_heating_surcharge_per_sqft, sim_op_exp_annual_growth ),\n",
        "                     columns = [\"total_sqft\", \"m\", \"b\", \"op_expense_per_sqft\", \"heating_surcharge_per_sqft\", \n",
        "                               \"op_exp_annual_growth\"])\n",
        "data[\"office_earnings\"] = data.apply(lambda x: office_earnings(total_sqft=x.total_sqft,\n",
        "                                                               m=x.m,\n",
        "                                                               b=x.b,\n",
        "                                                               op_expense_per_sqft=x.op_expense_per_sqft,\n",
        "                                                               heating_surcharge_per_sqft=x.heating_surcharge_per_sqft,\n",
        "                                                               op_exp_annual_growth=x.op_exp_annual_growth), axis=1)\n",
        "data"
      ],
      "metadata": {
        "id": "fZRzcIgHC2SX",
        "outputId": "e4d221bd-7dc4-447a-e2da-40b316cc51ae",
        "colab": {
          "base_uri": "https://localhost:8080/",
          "height": 424
        }
      },
      "id": "fZRzcIgHC2SX",
      "execution_count": 29,
      "outputs": [
        {
          "output_type": "execute_result",
          "data": {
            "text/plain": [
              "         total_sqft         m         b  op_expense_per_sqft  \\\n",
              "0     195366.928306 -0.048804  1.609446             0.682819   \n",
              "1     207463.677500 -0.044478  1.234906             1.119167   \n",
              "2     140466.969647 -0.065319  1.106602             1.640783   \n",
              "3     221438.681971 -0.070514  0.843470             1.456746   \n",
              "4     223570.004123 -0.036564  1.015908             1.266215   \n",
              "...             ...       ...       ...                  ...   \n",
              "9995  115227.481335 -0.034364  1.481718             0.950717   \n",
              "9996  199495.369104 -0.045418  1.561737             1.165694   \n",
              "9997  119158.613785 -0.053475  1.323364             1.528072   \n",
              "9998  199903.990851 -0.074991  1.740728             0.809855   \n",
              "9999  202901.537922 -0.036838  1.526091             1.393275   \n",
              "\n",
              "      heating_surcharge_per_sqft  op_exp_annual_growth  office_earnings  \n",
              "0                       0.202151              0.159475     2.822756e+06  \n",
              "1                       0.135345              0.122774    -1.738020e+05  \n",
              "2                       0.197493              0.123106    -5.064919e+06  \n",
              "3                       0.225844              0.145968    -8.653483e+06  \n",
              "4                       0.185081              0.114421    -1.052332e+06  \n",
              "...                          ...                   ...              ...  \n",
              "9995                    0.201233              0.096990     3.718004e+04  \n",
              "9996                    0.231090              0.132141     2.542532e+06  \n",
              "9997                    0.199837              0.103996    -2.692089e+06  \n",
              "9998                    0.170941              0.109001     4.101226e+05  \n",
              "9999                    0.169176              0.131400     3.415501e+06  \n",
              "\n",
              "[10000 rows x 7 columns]"
            ],
            "text/html": [
              "\n",
              "  <div id=\"df-68bd4f40-46d9-4457-afb7-66b012d7b309\">\n",
              "    <div class=\"colab-df-container\">\n",
              "      <div>\n",
              "<style scoped>\n",
              "    .dataframe tbody tr th:only-of-type {\n",
              "        vertical-align: middle;\n",
              "    }\n",
              "\n",
              "    .dataframe tbody tr th {\n",
              "        vertical-align: top;\n",
              "    }\n",
              "\n",
              "    .dataframe thead th {\n",
              "        text-align: right;\n",
              "    }\n",
              "</style>\n",
              "<table border=\"1\" class=\"dataframe\">\n",
              "  <thead>\n",
              "    <tr style=\"text-align: right;\">\n",
              "      <th></th>\n",
              "      <th>total_sqft</th>\n",
              "      <th>m</th>\n",
              "      <th>b</th>\n",
              "      <th>op_expense_per_sqft</th>\n",
              "      <th>heating_surcharge_per_sqft</th>\n",
              "      <th>op_exp_annual_growth</th>\n",
              "      <th>office_earnings</th>\n",
              "    </tr>\n",
              "  </thead>\n",
              "  <tbody>\n",
              "    <tr>\n",
              "      <th>0</th>\n",
              "      <td>195366.928306</td>\n",
              "      <td>-0.048804</td>\n",
              "      <td>1.609446</td>\n",
              "      <td>0.682819</td>\n",
              "      <td>0.202151</td>\n",
              "      <td>0.159475</td>\n",
              "      <td>2.822756e+06</td>\n",
              "    </tr>\n",
              "    <tr>\n",
              "      <th>1</th>\n",
              "      <td>207463.677500</td>\n",
              "      <td>-0.044478</td>\n",
              "      <td>1.234906</td>\n",
              "      <td>1.119167</td>\n",
              "      <td>0.135345</td>\n",
              "      <td>0.122774</td>\n",
              "      <td>-1.738020e+05</td>\n",
              "    </tr>\n",
              "    <tr>\n",
              "      <th>2</th>\n",
              "      <td>140466.969647</td>\n",
              "      <td>-0.065319</td>\n",
              "      <td>1.106602</td>\n",
              "      <td>1.640783</td>\n",
              "      <td>0.197493</td>\n",
              "      <td>0.123106</td>\n",
              "      <td>-5.064919e+06</td>\n",
              "    </tr>\n",
              "    <tr>\n",
              "      <th>3</th>\n",
              "      <td>221438.681971</td>\n",
              "      <td>-0.070514</td>\n",
              "      <td>0.843470</td>\n",
              "      <td>1.456746</td>\n",
              "      <td>0.225844</td>\n",
              "      <td>0.145968</td>\n",
              "      <td>-8.653483e+06</td>\n",
              "    </tr>\n",
              "    <tr>\n",
              "      <th>4</th>\n",
              "      <td>223570.004123</td>\n",
              "      <td>-0.036564</td>\n",
              "      <td>1.015908</td>\n",
              "      <td>1.266215</td>\n",
              "      <td>0.185081</td>\n",
              "      <td>0.114421</td>\n",
              "      <td>-1.052332e+06</td>\n",
              "    </tr>\n",
              "    <tr>\n",
              "      <th>...</th>\n",
              "      <td>...</td>\n",
              "      <td>...</td>\n",
              "      <td>...</td>\n",
              "      <td>...</td>\n",
              "      <td>...</td>\n",
              "      <td>...</td>\n",
              "      <td>...</td>\n",
              "    </tr>\n",
              "    <tr>\n",
              "      <th>9995</th>\n",
              "      <td>115227.481335</td>\n",
              "      <td>-0.034364</td>\n",
              "      <td>1.481718</td>\n",
              "      <td>0.950717</td>\n",
              "      <td>0.201233</td>\n",
              "      <td>0.096990</td>\n",
              "      <td>3.718004e+04</td>\n",
              "    </tr>\n",
              "    <tr>\n",
              "      <th>9996</th>\n",
              "      <td>199495.369104</td>\n",
              "      <td>-0.045418</td>\n",
              "      <td>1.561737</td>\n",
              "      <td>1.165694</td>\n",
              "      <td>0.231090</td>\n",
              "      <td>0.132141</td>\n",
              "      <td>2.542532e+06</td>\n",
              "    </tr>\n",
              "    <tr>\n",
              "      <th>9997</th>\n",
              "      <td>119158.613785</td>\n",
              "      <td>-0.053475</td>\n",
              "      <td>1.323364</td>\n",
              "      <td>1.528072</td>\n",
              "      <td>0.199837</td>\n",
              "      <td>0.103996</td>\n",
              "      <td>-2.692089e+06</td>\n",
              "    </tr>\n",
              "    <tr>\n",
              "      <th>9998</th>\n",
              "      <td>199903.990851</td>\n",
              "      <td>-0.074991</td>\n",
              "      <td>1.740728</td>\n",
              "      <td>0.809855</td>\n",
              "      <td>0.170941</td>\n",
              "      <td>0.109001</td>\n",
              "      <td>4.101226e+05</td>\n",
              "    </tr>\n",
              "    <tr>\n",
              "      <th>9999</th>\n",
              "      <td>202901.537922</td>\n",
              "      <td>-0.036838</td>\n",
              "      <td>1.526091</td>\n",
              "      <td>1.393275</td>\n",
              "      <td>0.169176</td>\n",
              "      <td>0.131400</td>\n",
              "      <td>3.415501e+06</td>\n",
              "    </tr>\n",
              "  </tbody>\n",
              "</table>\n",
              "<p>10000 rows × 7 columns</p>\n",
              "</div>\n",
              "      <button class=\"colab-df-convert\" onclick=\"convertToInteractive('df-68bd4f40-46d9-4457-afb7-66b012d7b309')\"\n",
              "              title=\"Convert this dataframe to an interactive table.\"\n",
              "              style=\"display:none;\">\n",
              "        \n",
              "  <svg xmlns=\"http://www.w3.org/2000/svg\" height=\"24px\"viewBox=\"0 0 24 24\"\n",
              "       width=\"24px\">\n",
              "    <path d=\"M0 0h24v24H0V0z\" fill=\"none\"/>\n",
              "    <path d=\"M18.56 5.44l.94 2.06.94-2.06 2.06-.94-2.06-.94-.94-2.06-.94 2.06-2.06.94zm-11 1L8.5 8.5l.94-2.06 2.06-.94-2.06-.94L8.5 2.5l-.94 2.06-2.06.94zm10 10l.94 2.06.94-2.06 2.06-.94-2.06-.94-.94-2.06-.94 2.06-2.06.94z\"/><path d=\"M17.41 7.96l-1.37-1.37c-.4-.4-.92-.59-1.43-.59-.52 0-1.04.2-1.43.59L10.3 9.45l-7.72 7.72c-.78.78-.78 2.05 0 2.83L4 21.41c.39.39.9.59 1.41.59.51 0 1.02-.2 1.41-.59l7.78-7.78 2.81-2.81c.8-.78.8-2.07 0-2.86zM5.41 20L4 18.59l7.72-7.72 1.47 1.35L5.41 20z\"/>\n",
              "  </svg>\n",
              "      </button>\n",
              "      \n",
              "  <style>\n",
              "    .colab-df-container {\n",
              "      display:flex;\n",
              "      flex-wrap:wrap;\n",
              "      gap: 12px;\n",
              "    }\n",
              "\n",
              "    .colab-df-convert {\n",
              "      background-color: #E8F0FE;\n",
              "      border: none;\n",
              "      border-radius: 50%;\n",
              "      cursor: pointer;\n",
              "      display: none;\n",
              "      fill: #1967D2;\n",
              "      height: 32px;\n",
              "      padding: 0 0 0 0;\n",
              "      width: 32px;\n",
              "    }\n",
              "\n",
              "    .colab-df-convert:hover {\n",
              "      background-color: #E2EBFA;\n",
              "      box-shadow: 0px 1px 2px rgba(60, 64, 67, 0.3), 0px 1px 3px 1px rgba(60, 64, 67, 0.15);\n",
              "      fill: #174EA6;\n",
              "    }\n",
              "\n",
              "    [theme=dark] .colab-df-convert {\n",
              "      background-color: #3B4455;\n",
              "      fill: #D2E3FC;\n",
              "    }\n",
              "\n",
              "    [theme=dark] .colab-df-convert:hover {\n",
              "      background-color: #434B5C;\n",
              "      box-shadow: 0px 1px 3px 1px rgba(0, 0, 0, 0.15);\n",
              "      filter: drop-shadow(0px 1px 2px rgba(0, 0, 0, 0.3));\n",
              "      fill: #FFFFFF;\n",
              "    }\n",
              "  </style>\n",
              "\n",
              "      <script>\n",
              "        const buttonEl =\n",
              "          document.querySelector('#df-68bd4f40-46d9-4457-afb7-66b012d7b309 button.colab-df-convert');\n",
              "        buttonEl.style.display =\n",
              "          google.colab.kernel.accessAllowed ? 'block' : 'none';\n",
              "\n",
              "        async function convertToInteractive(key) {\n",
              "          const element = document.querySelector('#df-68bd4f40-46d9-4457-afb7-66b012d7b309');\n",
              "          const dataTable =\n",
              "            await google.colab.kernel.invokeFunction('convertToInteractive',\n",
              "                                                     [key], {});\n",
              "          if (!dataTable) return;\n",
              "\n",
              "          const docLinkHtml = 'Like what you see? Visit the ' +\n",
              "            '<a target=\"_blank\" href=https://colab.research.google.com/notebooks/data_table.ipynb>data table notebook</a>'\n",
              "            + ' to learn more about interactive tables.';\n",
              "          element.innerHTML = '';\n",
              "          dataTable['output_type'] = 'display_data';\n",
              "          await google.colab.output.renderOutput(dataTable, element);\n",
              "          const docLink = document.createElement('div');\n",
              "          docLink.innerHTML = docLinkHtml;\n",
              "          element.appendChild(docLink);\n",
              "        }\n",
              "      </script>\n",
              "    </div>\n",
              "  </div>\n",
              "  "
            ]
          },
          "metadata": {},
          "execution_count": 29
        }
      ]
    },
    {
      "cell_type": "code",
      "source": [
        "# Evaluate office earnings outcome\n",
        "plt.hist(data[\"office_earnings\"])"
      ],
      "metadata": {
        "id": "tW4tiCJIHhfm",
        "outputId": "fe4146e7-e21b-4ac4-8888-6dfced70823d",
        "colab": {
          "base_uri": "https://localhost:8080/",
          "height": 400
        }
      },
      "id": "tW4tiCJIHhfm",
      "execution_count": 11,
      "outputs": [
        {
          "output_type": "execute_result",
          "data": {
            "text/plain": [
              "(array([  35.,  315., 1425., 2966., 2722., 1669.,  628.,  194.,   39.,\n",
              "           7.]),\n",
              " array([-9618713.82686608, -7147429.61481102, -4676145.40275596,\n",
              "        -2204861.19070091,   266423.02135415,  2737707.23340921,\n",
              "         5208991.44546427,  7680275.65751933, 10151559.86957439,\n",
              "        12622844.08162945, 15094128.29368451]),\n",
              " <a list of 10 Patch objects>)"
            ]
          },
          "metadata": {},
          "execution_count": 11
        },
        {
          "output_type": "display_data",
          "data": {
            "text/plain": [
              "<Figure size 432x288 with 1 Axes>"
            ],
            "image/png": "[encoded data removed]"
          },
          "metadata": {
            "needs_background": "light"
          }
        }
      ]
    },
    {
      "cell_type": "code",
      "source": [
        "# Scatterplot\n",
        "data.plot.scatter(\"op_expense_per_sqft\", \"office_earnings\")\n"
      ],
      "metadata": {
        "id": "qxk2i7edFHFp",
        "outputId": "68e48670-bf90-4c14-a9ec-0e657a4d81d3",
        "colab": {
          "base_uri": "https://localhost:8080/",
          "height": 308
        }
      },
      "id": "qxk2i7edFHFp",
      "execution_count": 12,
      "outputs": [
        {
          "output_type": "execute_result",
          "data": {
            "text/plain": [
              "<matplotlib.axes._subplots.AxesSubplot at 0x7f149f1c86d0>"
            ]
          },
          "metadata": {},
          "execution_count": 12
        },
        {
          "output_type": "display_data",
          "data": {
            "text/plain": [
              "<Figure size 432x288 with 1 Axes>"
            ],
            "image/png": "[encoded data removed]"
          },
          "metadata": {
            "needs_background": "light"
          }
        }
      ]
    },
    {
      "cell_type": "code",
      "source": [
        "# Linear Regression\n",
        "import statsmodels.api as sm"
      ],
      "metadata": {
        "id": "ge9b7XL8HF_h"
      },
      "id": "ge9b7XL8HF_h",
      "execution_count": 13,
      "outputs": []
    },
    {
      "cell_type": "code",
      "source": [
        "X = sm.add_constant(data.iloc[:,0:6])\n",
        "y = data.iloc[:,6]\n"
      ],
      "metadata": {
        "id": "yWtzE36AH2Up",
        "outputId": "9826048c-af07-497a-c593-4ae41e54bae3",
        "colab": {
          "base_uri": "https://localhost:8080/"
        }
      },
      "id": "yWtzE36AH2Up",
      "execution_count": 23,
      "outputs": [
        {
          "output_type": "stream",
          "name": "stderr",
          "text": [
            "/usr/local/lib/python3.7/dist-packages/statsmodels/tsa/tsatools.py:142: FutureWarning: In a future version of pandas all arguments of concat except for the argument 'objs' will be keyword-only\n",
            "  x = pd.concat(x[::order], 1)\n"
          ]
        }
      ]
    },
    {
      "cell_type": "code",
      "source": [
        "mod = sm.OLS(y,X,hasconstant=True)\n",
        "result = mod.fit()\n",
        "result.summary()"
      ],
      "metadata": {
        "id": "87U0VNXFC0Ql",
        "outputId": "b8047547-d33e-4919-e562-089f645fe27c",
        "colab": {
          "base_uri": "https://localhost:8080/",
          "height": 593
        }
      },
      "id": "87U0VNXFC0Ql",
      "execution_count": 25,
      "outputs": [
        {
          "output_type": "execute_result",
          "data": {
            "text/plain": [
              "<class 'statsmodels.iolib.summary.Summary'>\n",
              "\"\"\"\n",
              "                            OLS Regression Results                            \n",
              "==============================================================================\n",
              "Dep. Variable:        office_earnings   R-squared:                       0.966\n",
              "Model:                            OLS   Adj. R-squared:                  0.966\n",
              "Method:                 Least Squares   F-statistic:                 4.750e+04\n",
              "Date:                Wed, 02 Nov 2022   Prob (F-statistic):               0.00\n",
              "Time:                        01:54:12   Log-Likelihood:            -1.4710e+05\n",
              "No. Observations:               10000   AIC:                         2.942e+05\n",
              "Df Residuals:                    9993   BIC:                         2.943e+05\n",
              "Df Model:                           6                                         \n",
              "Covariance Type:            nonrobust                                         \n",
              "==============================================================================================\n",
              "                                 coef    std err          t      P>|t|      [0.025      0.975]\n",
              "----------------------------------------------------------------------------------------------\n",
              "const                       -9.94e+06   7.25e+04   -137.105      0.000   -1.01e+07    -9.8e+06\n",
              "total_sqft                    30.8588      0.164    188.275      0.000      30.537      31.180\n",
              "m                           1.319e+08   5.92e+05    222.930      0.000    1.31e+08    1.33e+08\n",
              "b                           8.756e+06   1.97e+04    445.182      0.000    8.72e+06    8.79e+06\n",
              "op_expense_per_sqft        -8.969e+05   2.48e+04    -36.174      0.000   -9.46e+05   -8.48e+05\n",
              "heating_surcharge_per_sqft -7.223e+05   1.47e+05     -4.917      0.000   -1.01e+06   -4.34e+05\n",
              "op_exp_annual_growth       -2.035e+06   2.47e+05     -8.239      0.000   -2.52e+06   -1.55e+06\n",
              "==============================================================================\n",
              "Omnibus:                     1289.408   Durbin-Watson:                   1.990\n",
              "Prob(Omnibus):                  0.000   Jarque-Bera (JB):            14756.562\n",
              "Skew:                          -0.147   Prob(JB):                         0.00\n",
              "Kurtosis:                       8.944   Cond. No.                     1.84e+07\n",
              "==============================================================================\n",
              "\n",
              "Notes:\n",
              "[1] Standard Errors assume that the covariance matrix of the errors is correctly specified.\n",
              "[2] The condition number is large, 1.84e+07. This might indicate that there are\n",
              "strong multicollinearity or other numerical problems.\n",
              "\"\"\""
            ],
            "text/html": [
              "<table class=\"simpletable\">\n",
              "<caption>OLS Regression Results</caption>\n",
              "<tr>\n",
              "  <th>Dep. Variable:</th>     <td>office_earnings</td> <th>  R-squared:         </th>  <td>   0.966</td>  \n",
              "</tr>\n",
              "<tr>\n",
              "  <th>Model:</th>                   <td>OLS</td>       <th>  Adj. R-squared:    </th>  <td>   0.966</td>  \n",
              "</tr>\n",
              "<tr>\n",
              "  <th>Method:</th>             <td>Least Squares</td>  <th>  F-statistic:       </th>  <td>4.750e+04</td> \n",
              "</tr>\n",
              "<tr>\n",
              "  <th>Date:</th>             <td>Wed, 02 Nov 2022</td> <th>  Prob (F-statistic):</th>   <td>  0.00</td>   \n",
              "</tr>\n",
              "<tr>\n",
              "  <th>Time:</th>                 <td>01:54:12</td>     <th>  Log-Likelihood:    </th> <td>-1.4710e+05</td>\n",
              "</tr>\n",
              "<tr>\n",
              "  <th>No. Observations:</th>      <td> 10000</td>      <th>  AIC:               </th>  <td>2.942e+05</td> \n",
              "</tr>\n",
              "<tr>\n",
              "  <th>Df Residuals:</th>          <td>  9993</td>      <th>  BIC:               </th>  <td>2.943e+05</td> \n",
              "</tr>\n",
              "<tr>\n",
              "  <th>Df Model:</th>              <td>     6</td>      <th>                     </th>      <td> </td>     \n",
              "</tr>\n",
              "<tr>\n",
              "  <th>Covariance Type:</th>      <td>nonrobust</td>    <th>                     </th>      <td> </td>     \n",
              "</tr>\n",
              "</table>\n",
              "<table class=\"simpletable\">\n",
              "<tr>\n",
              "               <td></td>                 <th>coef</th>     <th>std err</th>      <th>t</th>      <th>P>|t|</th>  <th>[0.025</th>    <th>0.975]</th>  \n",
              "</tr>\n",
              "<tr>\n",
              "  <th>const</th>                      <td> -9.94e+06</td> <td> 7.25e+04</td> <td> -137.105</td> <td> 0.000</td> <td>-1.01e+07</td> <td> -9.8e+06</td>\n",
              "</tr>\n",
              "<tr>\n",
              "  <th>total_sqft</th>                 <td>   30.8588</td> <td>    0.164</td> <td>  188.275</td> <td> 0.000</td> <td>   30.537</td> <td>   31.180</td>\n",
              "</tr>\n",
              "<tr>\n",
              "  <th>m</th>                          <td> 1.319e+08</td> <td> 5.92e+05</td> <td>  222.930</td> <td> 0.000</td> <td> 1.31e+08</td> <td> 1.33e+08</td>\n",
              "</tr>\n",
              "<tr>\n",
              "  <th>b</th>                          <td> 8.756e+06</td> <td> 1.97e+04</td> <td>  445.182</td> <td> 0.000</td> <td> 8.72e+06</td> <td> 8.79e+06</td>\n",
              "</tr>\n",
              "<tr>\n",
              "  <th>op_expense_per_sqft</th>        <td>-8.969e+05</td> <td> 2.48e+04</td> <td>  -36.174</td> <td> 0.000</td> <td>-9.46e+05</td> <td>-8.48e+05</td>\n",
              "</tr>\n",
              "<tr>\n",
              "  <th>heating_surcharge_per_sqft</th> <td>-7.223e+05</td> <td> 1.47e+05</td> <td>   -4.917</td> <td> 0.000</td> <td>-1.01e+06</td> <td>-4.34e+05</td>\n",
              "</tr>\n",
              "<tr>\n",
              "  <th>op_exp_annual_growth</th>       <td>-2.035e+06</td> <td> 2.47e+05</td> <td>   -8.239</td> <td> 0.000</td> <td>-2.52e+06</td> <td>-1.55e+06</td>\n",
              "</tr>\n",
              "</table>\n",
              "<table class=\"simpletable\">\n",
              "<tr>\n",
              "  <th>Omnibus:</th>       <td>1289.408</td> <th>  Durbin-Watson:     </th> <td>   1.990</td> \n",
              "</tr>\n",
              "<tr>\n",
              "  <th>Prob(Omnibus):</th>  <td> 0.000</td>  <th>  Jarque-Bera (JB):  </th> <td>14756.562</td>\n",
              "</tr>\n",
              "<tr>\n",
              "  <th>Skew:</th>           <td>-0.147</td>  <th>  Prob(JB):          </th> <td>    0.00</td> \n",
              "</tr>\n",
              "<tr>\n",
              "  <th>Kurtosis:</th>       <td> 8.944</td>  <th>  Cond. No.          </th> <td>1.84e+07</td> \n",
              "</tr>\n",
              "</table><br/><br/>Notes:<br/>[1] Standard Errors assume that the covariance matrix of the errors is correctly specified.<br/>[2] The condition number is large, 1.84e+07. This might indicate that there are<br/>strong multicollinearity or other numerical problems."
            ]
          },
          "metadata": {},
          "execution_count": 25
        }
      ]
    },
    {
      "cell_type": "code",
      "source": [
        "# Normalize coefficients to reflect standard deviations of inputs\n",
        "result.params * X.std()"
      ],
      "metadata": {
        "id": "djjKuPvvDG_x",
        "outputId": "19e5b1ec-e28d-4df5-f581-8f2b2c88babb",
        "colab": {
          "base_uri": "https://localhost:8080/"
        }
      },
      "id": "djjKuPvvDG_x",
      "execution_count": 26,
      "outputs": [
        {
          "output_type": "execute_result",
          "data": {
            "text/plain": [
              "const                        -0.000000e+00\n",
              "total_sqft                    1.115454e+06\n",
              "m                             1.320636e+06\n",
              "b                             2.637603e+06\n",
              "op_expense_per_sqft          -2.143336e+05\n",
              "heating_surcharge_per_sqft   -2.912834e+04\n",
              "op_exp_annual_growth         -4.881234e+04\n",
              "dtype: float64"
            ]
          },
          "metadata": {},
          "execution_count": 26
        }
      ]
    },
    {
      "cell_type": "code",
      "source": [
        "# bar graph these things\n",
        "normalized_coefficients = result.params * X.std()\n",
        "normalized_coefficients.plot.bar()"
      ],
      "metadata": {
        "id": "MN09FbGNDZfq",
        "outputId": "524a1b42-71a7-460f-9a0f-d3abba457c6d",
        "colab": {
          "base_uri": "https://localhost:8080/",
          "height": 422
        }
      },
      "id": "MN09FbGNDZfq",
      "execution_count": 28,
      "outputs": [
        {
          "output_type": "execute_result",
          "data": {
            "text/plain": [
              "<matplotlib.axes._subplots.AxesSubplot at 0x7f1482d7c210>"
            ]
          },
          "metadata": {},
          "execution_count": 28
        },
        {
          "output_type": "display_data",
          "data": {
            "text/plain": [
              "<Figure size 432x288 with 1 Axes>"
            ],
            "image/png": "[encoded data removed]"
          },
          "metadata": {
            "needs_background": "light"
          }
        }
      ]
    }
  ],
  "metadata": {
    "kernelspec": {
      "display_name": "Python 3",
      "language": "python",
      "name": "python3"
    },
    "language_info": {
      "codemirror_mode": {
        "name": "ipython",
        "version": 3
      },
      "file_extension": ".py",
      "mimetype": "text/x-python",
      "name": "python",
      "nbconvert_exporter": "python",
      "pygments_lexer": "ipython3",
      "version": "3.8.8"
    },
    "colab": {
      "provenance": [],
      "collapsed_sections": [],
      "include_colab_link": true
    }
  },
  "nbformat": 4,
  "nbformat_minor": 5
}