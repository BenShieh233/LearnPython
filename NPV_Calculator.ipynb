{
  "nbformat": 4,
  "nbformat_minor": 0,
  "metadata": {
    "colab": {
      "provenance": [],
      "authorship_tag": "ABX9TyM+fbDq8xZawsMTPHkbNz+n",
      "include_colab_link": true
    },
    "kernelspec": {
      "name": "python3",
      "display_name": "Python 3"
    },
    "language_info": {
      "name": "python"
    }
  },
  "cells": [
    {
      "cell_type": "markdown",
      "metadata": {
        "id": "view-in-github",
        "colab_type": "text"
      },
      "source": [
        "<a href=\"https://colab.research.google.com/github/BenShieh233/LearnPython/blob/main/Question_3.ipynb\" target=\"_parent\"><img src=\"https://colab.research.google.com/assets/colab-badge.svg\" alt=\"Open In Colab\"/></a>"
      ]
    },
    {
      "cell_type": "code",
      "execution_count": 34,
      "metadata": {
        "id": "d34-sZ3A_inX"
      },
      "outputs": [],
      "source": [
        "# Inputs\n",
        "year = 5\n",
        "\n",
        "initial_sales_price = 80\n",
        "sales_price_growth = 0.05\n",
        "\n",
        "initial_sales_volume = 120000\n",
        "volume_growth = 0.075\n",
        "\n",
        "initial_variable_cost = 50\n",
        "variable_cost_growth = 0.02\n",
        "\n",
        "fixed_cost = 32000\n",
        "SGA_expense_rate = 0.08\n",
        "effective_tax_rate = 0.34\n",
        "purchase_price = 10000000\n",
        "discount_rate = 0.1\n",
        "\n",
        "cost_to_buy_business = 10000000"
      ]
    },
    {
      "cell_type": "code",
      "source": [
        "# Revenue Calculations\n",
        "sales_price = [initial_sales_price*(1+sales_price_growth)**(i) for i in range(year)]\n",
        "sales_units = [initial_sales_volume*(1+volume_growth)**(i) for i in range(year)]\n",
        "revenue = [sales_price[i]*sales_units[i] for i in range(year)]\n",
        "revenue"
      ],
      "metadata": {
        "colab": {
          "base_uri": "https://localhost:8080/"
        },
        "id": "OoZFuSqQD8HS",
        "outputId": "7ccc7bea-bccc-4c45-a785-0f4877306a35"
      },
      "execution_count": 40,
      "outputs": [
        {
          "output_type": "execute_result",
          "data": {
            "text/plain": [
              "[9600000.0, 10836000.0, 12231135.0, 13805893.63125, 15583402.43627344]"
            ]
          },
          "metadata": {},
          "execution_count": 40
        }
      ]
    },
    {
      "cell_type": "code",
      "source": [
        "# Total Production Cost Calculations\n",
        "variable_cost = [initial_variable_cost*(1+variable_cost_growth)**(i) for i in range(year)]\n",
        "total_variable_cost = [variable_cost[i]*sales_units[i] for i in range(year)]\n",
        "total_fixed_cost = [fixed_cost]*year\n",
        "total_production_cost = [total_variable_cost[i]+total_fixed_cost[i] for i in range(year)]\n",
        "total_production_cost"
      ],
      "metadata": {
        "colab": {
          "base_uri": "https://localhost:8080/"
        },
        "id": "QXnTnKS9EIp8",
        "outputId": "367d4a06-4adc-4ce8-9b80-c15d4de05b2e"
      },
      "execution_count": 16,
      "outputs": [
        {
          "output_type": "execute_result",
          "data": {
            "text/plain": [
              "[6032000.0, 6611000.0, 7245873.499999999, 7942012.29275, 8705328.479000375]"
            ]
          },
          "metadata": {},
          "execution_count": 16
        }
      ]
    },
    {
      "cell_type": "code",
      "source": [
        "# Other Expenses\n",
        "SGA = [total_production_cost[i]*(SGA_expense_rate) for i in range(year)]\n",
        "SGA"
      ],
      "metadata": {
        "colab": {
          "base_uri": "https://localhost:8080/"
        },
        "id": "rxLleIlvHsCt",
        "outputId": "0a0509a5-4703-42c1-f935-622830c0a106"
      },
      "execution_count": 22,
      "outputs": [
        {
          "output_type": "execute_result",
          "data": {
            "text/plain": [
              "[482560.0, 528880.0, 579669.8799999999, 635360.9834200001, 696426.27832003]"
            ]
          },
          "metadata": {},
          "execution_count": 22
        }
      ]
    },
    {
      "cell_type": "code",
      "source": [
        "# Earnings Calculations\n",
        "gross_margin = [revenue[i]-total_production_cost[i] for i in range(year)]\n",
        "earnings_before_tax = [gross_margin[i]-SGA[i] for i in range(year)]\n",
        "taxes = [earnings_before_tax[i]*effective_tax_rate for i in range(year)]\n",
        "earnings_after_tax = [earnings_before_tax[i]-taxes[i] for i in range(year)]\n",
        "earnings_after_tax"
      ],
      "metadata": {
        "colab": {
          "base_uri": "https://localhost:8080/"
        },
        "id": "a8g7_iB2ILvg",
        "outputId": "2074eaae-61d2-410f-91b6-b6c719de5fa9"
      },
      "execution_count": 23,
      "outputs": [
        {
          "output_type": "execute_result",
          "data": {
            "text/plain": [
              "[2036390.4, 2439439.2, 2907690.4692000006, 3450823.6777278, 4079887.1801685328]"
            ]
          },
          "metadata": {},
          "execution_count": 23
        }
      ]
    },
    {
      "cell_type": "code",
      "source": [
        "# NPV Calculations\n",
        "NPV = sum([earnings_after_tax[i]/((1+discount_rate)**(i+1)) for i in range(year)])\n",
        "NPV_of_business_purchase = NPV-cost_to_buy_business\n",
        "NPV_of_business_purchase"
      ],
      "metadata": {
        "colab": {
          "base_uri": "https://localhost:8080/"
        },
        "id": "ktlPSbZhI2SZ",
        "outputId": "884797b6-69ff-4c14-871e-2caef6024ba4"
      },
      "execution_count": 36,
      "outputs": [
        {
          "output_type": "execute_result",
          "data": {
            "text/plain": [
              "942168.2903186642"
            ]
          },
          "metadata": {},
          "execution_count": 36
        }
      ]
    },
    {
      "cell_type": "code",
      "source": [
        "# Model as a function\n",
        "def NPV_calculation(year = 5,\n",
        "                    initial_sales_price = 80,\n",
        "                    sales_price_growth = 0.05,\n",
        "                    initial_sales_volume = 120000,\n",
        "                    volume_growth = 0.075,\n",
        "                    initial_variable_cost = 50,\n",
        "                    variable_cost_growth = 0.02,\n",
        "                    fixed_cost = 32000,\n",
        "                    SGA_expense_rate = 0.08,\n",
        "                    effective_tax_rate = 0.34,\n",
        "                    purchase_price = 10000000,\n",
        "                    discount_rate = 0.1,\n",
        "                    cost_to_buy_business = 10000000):\n",
        "  # Revenue Calculations\n",
        "  sales_price = [initial_sales_price*(1+sales_price_growth)**(i) for i in range(year)]\n",
        "  sales_units = [initial_sales_volume*(1+volume_growth)**(i) for i in range(year)]\n",
        "  revenue = [sales_price[i]*sales_units[i] for i in range(year)]\n",
        "\n",
        "  # Total Production Cost Calculations\n",
        "  variable_cost = [initial_variable_cost*(1+variable_cost_growth)**(i) for i in range(year)]\n",
        "  total_variable_cost = [variable_cost[i]*sales_units[i] for i in range(year)]\n",
        "  total_fixed_cost = [fixed_cost]*year\n",
        "  total_production_cost = [total_variable_cost[i]+total_fixed_cost[i] for i in range(year)]\n",
        "\n",
        "  # Other Expenses\n",
        "  SGA = [total_production_cost[i]*(SGA_expense_rate) for i in range(year)]\n",
        "\n",
        "  # Earnings Calculations\n",
        "  gross_margin = [revenue[i]-total_production_cost[i] for i in range(year)]\n",
        "  earnings_before_tax = [gross_margin[i]-SGA[i] for i in range(year)]\n",
        "  taxes = [earnings_before_tax[i]*effective_tax_rate for i in range(year)]\n",
        "  earnings_after_tax = [earnings_before_tax[i]-taxes[i] for i in range(year)]\n",
        "\n",
        "  # NPV Calculations\n",
        "  NPV = sum([earnings_after_tax[i]/((1+discount_rate)**(i+1)) for i in range(year)])\n",
        "  NPV_of_business_purchase = NPV-cost_to_buy_business\n",
        "\n",
        "  print(f'The annual revenue is: {revenue}')\n",
        "  print(f\"The annual total production cost is: {total_production_cost}\")\n",
        "  print(f\"The annual SG&A expense is: {SGA}\")\n",
        "  print(f'The annual earnings after tax is: {earnings_after_tax}')\n",
        "  print(f\"The NPV of earnings after tax is: {round(NPV,0)}\") \n",
        "  print(f\"The NPV of business purchase is: {round(NPV_of_business_purchase,2)}\")"
      ],
      "metadata": {
        "id": "NbcgU2uQKRl-"
      },
      "execution_count": 78,
      "outputs": []
    },
    {
      "cell_type": "code",
      "source": [
        "NPV_calculation()"
      ],
      "metadata": {
        "colab": {
          "base_uri": "https://localhost:8080/"
        },
        "id": "cvro5CFjLgPm",
        "outputId": "931c7f6f-f6fa-4b6a-e353-1399426cc03c"
      },
      "execution_count": 77,
      "outputs": [
        {
          "output_type": "stream",
          "name": "stdout",
          "text": [
            "The annual revenue is: [9600000.0, 10836000.0, 12231135.0, 13805893.63125, 15583402.43627344]\n",
            "The annual total production cost is: [6032000.0, 6611000.0, 7245873.499999999, 7942012.29275, 8705328.479000375]\n",
            "The annual SG&A expense is: [482560.0, 528880.0, 579669.8799999999, 635360.9834200001, 696426.27832003]\n",
            "The annual earnings after tax is: [2036390.4, 2439439.2, 2907690.4692000006, 3450823.4343527993, 4079887.4681090033]\n",
            "The NPV of earnings after tax is: 10942168.0\n",
            "The NPV of business purchase is: 942168.3\n"
          ]
        }
      ]
    }
  ]
}
